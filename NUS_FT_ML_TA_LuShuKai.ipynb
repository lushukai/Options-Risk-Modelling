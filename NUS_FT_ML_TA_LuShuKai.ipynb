{
  "nbformat": 4,
  "nbformat_minor": 0,
  "metadata": {
    "colab": {
      "name": "NUS_FT_ML_TA_LuShuKai.ipynb",
      "provenance": [],
      "collapsed_sections": [],
      "authorship_tag": "ABX9TyMUQRyTut6TjRwfBgVCBaJw",
      "include_colab_link": true
    },
    "kernelspec": {
      "name": "python3",
      "display_name": "Python 3"
    }
  },
  "cells": [
    {
      "cell_type": "markdown",
      "metadata": {
        "id": "view-in-github",
        "colab_type": "text"
      },
      "source": [
        "<a href=\"https://colab.research.google.com/github/lushukai/enterprise-risk/blob/master/NUS_FT_ML_TA_LuShuKai.ipynb\" target=\"_parent\"><img src=\"https://colab.research.google.com/assets/colab-badge.svg\" alt=\"Open In Colab\"/></a>"
      ]
    },
    {
      "cell_type": "code",
      "metadata": {
        "id": "dz2TCxZmZcwX",
        "colab_type": "code",
        "colab": {
          "base_uri": "https://localhost:8080/",
          "height": 272
        },
        "outputId": "fc49b6aa-81c3-4681-9cd3-8aa0b733df63"
      },
      "source": [
        "import pandas as pd\n",
        "import numpy  as np\n",
        "import matplotlib.pyplot as plt\n",
        "import psycopg2 as ps\n",
        "\n",
        "tesla = pd.read_excel('tesla.xlsx', header=0, index_col=0)\n",
        "print(tesla)"
      ],
      "execution_count": 140,
      "outputs": [
        {
          "output_type": "stream",
          "text": [
            "                          Close\n",
            "Date                           \n",
            "2019-06-03 16:00:00.288  178.97\n",
            "2019-06-04 16:00:00.288  193.60\n",
            "2019-06-05 16:00:00.288  196.59\n",
            "2019-06-06 16:00:00.288  205.95\n",
            "2019-06-07 16:00:00.288  204.50\n",
            "...                         ...\n",
            "2020-05-22 16:00:00.288  816.88\n",
            "2020-05-26 16:00:00.288  818.87\n",
            "2020-05-27 16:00:00.288  820.23\n",
            "2020-05-28 16:00:00.288  805.81\n",
            "2020-05-29 16:00:00.288  835.00\n",
            "\n",
            "[251 rows x 1 columns]\n"
          ],
          "name": "stdout"
        }
      ]
    },
    {
      "cell_type": "code",
      "metadata": {
        "id": "jI98joRlwe3j",
        "colab_type": "code",
        "colab": {
          "base_uri": "https://localhost:8080/",
          "height": 294
        },
        "outputId": "5f728fce-8638-48a0-c464-5f98dadbb269"
      },
      "source": [
        "#Q1\n",
        "tesla.plot()\n",
        "#Not enough information to deduce seasonality due to time frame of only a year.\n",
        "#Seasonality is defined as a repeating pattern within a year."
      ],
      "execution_count": 141,
      "outputs": [
        {
          "output_type": "execute_result",
          "data": {
            "text/plain": [
              "<matplotlib.axes._subplots.AxesSubplot at 0x7f7b311aee48>"
            ]
          },
          "metadata": {
            "tags": []
          },
          "execution_count": 141
        },
        {
          "output_type": "display_data",
          "data": {
            "image/png": "[encoded data removed]",
            "text/plain": [
              "<Figure size 432x288 with 1 Axes>"
            ]
          },
          "metadata": {
            "tags": [],
            "needs_background": "light"
          }
        }
      ]
    },
    {
      "cell_type": "code",
      "metadata": {
        "id": "SFsvPaOTwfBB",
        "colab_type": "code",
        "colab": {
          "base_uri": "https://localhost:8080/",
          "height": 34
        },
        "outputId": "fc9d390a-7a09-4558-9d33-b824e80d89e7"
      },
      "source": [
        "#Q2 VALIDATED\n",
        "sd_tesla = np.std(tesla.iloc[:,0])\n",
        "print(sd_tesla)"
      ],
      "execution_count": 142,
      "outputs": [
        {
          "output_type": "stream",
          "text": [
            "218.9943835129397\n"
          ],
          "name": "stdout"
        }
      ]
    },
    {
      "cell_type": "code",
      "metadata": {
        "id": "53ZiqRpowfJW",
        "colab_type": "code",
        "colab": {
          "base_uri": "https://localhost:8080/",
          "height": 34
        },
        "outputId": "c6f1b27c-c86d-496f-9852-d0c31c442cd6"
      },
      "source": [
        "#Q3 VALIDATED\n",
        "max_tesla = max(tesla.iloc[:,0])\n",
        "print(max_tesla)"
      ],
      "execution_count": 143,
      "outputs": [
        {
          "output_type": "stream",
          "text": [
            "917.42\n"
          ],
          "name": "stdout"
        }
      ]
    },
    {
      "cell_type": "code",
      "metadata": {
        "id": "g9coH6DFwfQb",
        "colab_type": "code",
        "colab": {
          "base_uri": "https://localhost:8080/",
          "height": 34
        },
        "outputId": "8ebdf0f4-e9ee-40c1-bffe-9f3b00ee58df"
      },
      "source": [
        "#Q4 (Did not mention if wanted string or datetime datatype) VALIDATED\n",
        "index_max = str(tesla[tesla['Close']==max_tesla].index.values[0])[0:10].replace('-','/')\n",
        "print(index_max)"
      ],
      "execution_count": 144,
      "outputs": [
        {
          "output_type": "stream",
          "text": [
            "2020/02/19\n"
          ],
          "name": "stdout"
        }
      ]
    },
    {
      "cell_type": "code",
      "metadata": {
        "id": "9Dw0bddbwfXX",
        "colab_type": "code",
        "colab": {
          "base_uri": "https://localhost:8080/",
          "height": 34
        },
        "outputId": "b5e701f4-94d3-45b1-ff77-47e0d96348d8"
      },
      "source": [
        "#Q5 (Short sell means sell first, buy back later) VALIDATED\n",
        "range_tesla = tesla.iloc[:,0]\n",
        "profit = 0\n",
        "for i in range(len(range_tesla)):\n",
        "  for j in range(i+1,len(range_tesla)):\n",
        "    if range_tesla[i] - range_tesla[j] > profit:\n",
        "      profit = range_tesla[i] - range_tesla[j]\n",
        "      index_i = str(tesla[tesla['Close']==range_tesla[i]].index.values[0])[0:10].replace('-','/')\n",
        "      index_j = str(tesla[tesla['Close']==range_tesla[j]].index.values[0])[0:10].replace('-','/')\n",
        "      \n",
        "print(profit, index_i, index_j)"
      ],
      "execution_count": 145,
      "outputs": [
        {
          "output_type": "stream",
          "text": [
            "556.1999999999999 2020/02/19 2020/03/18\n"
          ],
          "name": "stdout"
        }
      ]
    },
    {
      "cell_type": "code",
      "metadata": {
        "id": "N-_eZ-1zwfd2",
        "colab_type": "code",
        "colab": {
          "base_uri": "https://localhost:8080/",
          "height": 68
        },
        "outputId": "293a3a2d-fb04-4917-f2aa-bc4de7f58599"
      },
      "source": [
        "#Q6 VALIDATED\n",
        "tesla['Signal'] = tesla['Close'].pct_change() > 0\n",
        "print(tesla['Signal'].value_counts())"
      ],
      "execution_count": 146,
      "outputs": [
        {
          "output_type": "stream",
          "text": [
            "True     142\n",
            "False    109\n",
            "Name: Signal, dtype: int64\n"
          ],
          "name": "stdout"
        }
      ]
    },
    {
      "cell_type": "code",
      "metadata": {
        "id": "CxOgwhLpwflh",
        "colab_type": "code",
        "colab": {
          "base_uri": "https://localhost:8080/",
          "height": 238
        },
        "outputId": "e6ee730b-6b08-4c13-b923-721056de7ed0"
      },
      "source": [
        "#Q7 VALIDATED\n",
        "tesla['Days'] = tesla.index.day\n",
        "tesla['Prediction'] = tesla['Days'].apply(lambda x: 'SELL' if x % 2 == 0 else 'BUY')\n",
        "print(tesla['Prediction'])"
      ],
      "execution_count": 147,
      "outputs": [
        {
          "output_type": "stream",
          "text": [
            "Date\n",
            "2019-06-03 16:00:00.288     BUY\n",
            "2019-06-04 16:00:00.288    SELL\n",
            "2019-06-05 16:00:00.288     BUY\n",
            "2019-06-06 16:00:00.288    SELL\n",
            "2019-06-07 16:00:00.288     BUY\n",
            "                           ... \n",
            "2020-05-22 16:00:00.288    SELL\n",
            "2020-05-26 16:00:00.288    SELL\n",
            "2020-05-27 16:00:00.288     BUY\n",
            "2020-05-28 16:00:00.288    SELL\n",
            "2020-05-29 16:00:00.288     BUY\n",
            "Name: Prediction, Length: 251, dtype: object\n"
          ],
          "name": "stdout"
        }
      ]
    },
    {
      "cell_type": "code",
      "metadata": {
        "id": "9ESgLD59wrsi",
        "colab_type": "code",
        "colab": {
          "base_uri": "https://localhost:8080/",
          "height": 85
        },
        "outputId": "2a541b48-5c47-474d-c062-5b81914867c6"
      },
      "source": [
        "#Q8 (If you bought today and the price increase tomorrow, correct & vice-versa)\n",
        "#Therefore, the current BUY -> next True & current SELL -> next False.\n",
        "# print(tesla[['Signal','Prediction']])\n",
        "tesla['Signal2'] = tesla['Signal'].shift(-1)\n",
        "tesla['results'] = np.where(((tesla['Prediction']=='BUY') & (tesla['Signal2']==True)) |\n",
        "                            ((tesla['Prediction']=='SELL') & (tesla['Signal2']==False)),\n",
        "                            True, False)\n",
        "print(tesla['results'].value_counts())\n",
        "Accuracy = 115/251\n",
        "print('{:.3%}'.format(Accuracy))"
      ],
      "execution_count": 148,
      "outputs": [
        {
          "output_type": "stream",
          "text": [
            "False    136\n",
            "True     115\n",
            "Name: results, dtype: int64\n",
            "45.817%\n"
          ],
          "name": "stdout"
        }
      ]
    }
  ]
}